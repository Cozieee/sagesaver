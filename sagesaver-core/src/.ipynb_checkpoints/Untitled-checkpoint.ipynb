{
 "cells": [
  {
   "cell_type": "code",
   "execution_count": 1,
   "id": "e9363126-540a-4e66-a168-02b04c7c7cde",
   "metadata": {},
   "outputs": [],
   "source": [
    "%load_ext autoreload\n",
    "%autoreload 2"
   ]
  },
  {
   "cell_type": "code",
   "execution_count": 4,
   "id": "014447be-39f9-4dba-a22c-2769c0a45612",
   "metadata": {},
   "outputs": [],
   "source": [
    "from sagesaver.server import Server"
   ]
  },
  {
   "cell_type": "code",
   "execution_count": 5,
   "id": "cae63762-f777-4991-bdcb-329fb99843bb",
   "metadata": {},
   "outputs": [],
   "source": [
    "my_server = Server.create()"
   ]
  },
  {
   "cell_type": "code",
   "execution_count": 51,
   "id": "fca9f2a9-20a6-4b16-8ba4-916feff64501",
   "metadata": {},
   "outputs": [
    {
     "data": {
      "text/plain": [
       "1827.0"
      ]
     },
     "execution_count": 51,
     "metadata": {},
     "output_type": "execute_result"
    }
   ],
   "source": [
    "client.admin.command(\"serverStatus\")[\"uptime\"]"
   ]
  },
  {
   "cell_type": "code",
   "execution_count": 43,
   "id": "966802eb-18d3-4588-86e1-d7f1ea0ced1c",
   "metadata": {},
   "outputs": [],
   "source": [
    "date_last_active = datetime(2021, 7, 1)\n",
    "\n",
    "for db_name in client.list_database_names():\n",
    "    db = client[db_name]\n",
    "    db_profile = db.system.profile\n",
    "    \n",
    "    last_op = next(db_profile.find().limit(1).sort('ts'))\n",
    "    print(last_op)\n",
    "    last_op_time = last_op['ts']\n",
    "    \n",
    "    date_last_active = max(date_last_active, last_op_time)"
   ]
  },
  {
   "cell_type": "code",
   "execution_count": 49,
   "id": "d8e99f93-5d29-4f68-9a4b-e04ba37d1577",
   "metadata": {},
   "outputs": [
    {
     "name": "stdout",
     "output_type": "stream",
     "text": [
      "2021-07-04 00:31:54.600000\n"
     ]
    }
   ],
   "source": [
    "print(date_last_active)"
   ]
  },
  {
   "cell_type": "code",
   "execution_count": 31,
   "id": "b452fc56-fef6-41a8-84ed-4bad96e42c66",
   "metadata": {},
   "outputs": [
    {
     "data": {
      "text/plain": [
       "['system.users', 'system.version']"
      ]
     },
     "execution_count": 31,
     "metadata": {},
     "output_type": "execute_result"
    }
   ],
   "source": [
    "client.admin.list_collection"
   ]
  },
  {
   "cell_type": "code",
   "execution_count": 20,
   "id": "d8476d95-5081-46a7-8748-e4c158c1d5a4",
   "metadata": {},
   "outputs": [],
   "source": [
    "client = my_server.test_db."
   ]
  },
  {
   "cell_type": "code",
   "execution_count": 26,
   "id": "2b28607b-fc77-4fb3-a1f3-6db2a736a900",
   "metadata": {},
   "outputs": [
    {
     "data": {
      "text/plain": [
       "[{'op': 'remove',\n",
       "  'ns': 'test_db.playground',\n",
       "  'command': {'q': {'name': 'bob'}, 'limit': 0},\n",
       "  'keysExamined': 0,\n",
       "  'docsExamined': 1,\n",
       "  'ndeleted': 1,\n",
       "  'keysDeleted': 1,\n",
       "  'numYield': 0,\n",
       "  'queryHash': '01AEE5EC',\n",
       "  'planCacheKey': '01AEE5EC',\n",
       "  'locks': {'ParallelBatchWriterMode': {'acquireCount': {'r': 1}},\n",
       "   'ReplicationStateTransition': {'acquireCount': {'w': 1}},\n",
       "   'Global': {'acquireCount': {'w': 1}},\n",
       "   'Database': {'acquireCount': {'w': 1}},\n",
       "   'Collection': {'acquireCount': {'w': 1}},\n",
       "   'Mutex': {'acquireCount': {'r': 1}}},\n",
       "  'flowControl': {'acquireCount': 1, 'timeAcquiringMicros': 1},\n",
       "  'millis': 1,\n",
       "  'planSummary': 'COLLSCAN',\n",
       "  'execStats': {'stage': 'DELETE',\n",
       "   'nReturned': 0,\n",
       "   'executionTimeMillisEstimate': 0,\n",
       "   'works': 3,\n",
       "   'advanced': 0,\n",
       "   'needTime': 2,\n",
       "   'needYield': 0,\n",
       "   'saveState': 0,\n",
       "   'restoreState': 0,\n",
       "   'isEOF': 1,\n",
       "   'nWouldDelete': 1,\n",
       "   'inputStage': {'stage': 'COLLSCAN',\n",
       "    'filter': {'name': {'$eq': 'bob'}},\n",
       "    'nReturned': 1,\n",
       "    'executionTimeMillisEstimate': 0,\n",
       "    'works': 3,\n",
       "    'advanced': 1,\n",
       "    'needTime': 1,\n",
       "    'needYield': 0,\n",
       "    'saveState': 1,\n",
       "    'restoreState': 1,\n",
       "    'isEOF': 1,\n",
       "    'direction': 'forward',\n",
       "    'docsExamined': 1}},\n",
       "  'ts': datetime.datetime(2021, 7, 4, 0, 12, 36, 674000),\n",
       "  'client': '172.31.0.212',\n",
       "  'allUsers': [{'user': 'Admin', 'db': 'admin'}],\n",
       "  'user': 'Admin@admin'}]"
      ]
     },
     "execution_count": 26,
     "metadata": {},
     "output_type": "execute_result"
    }
   ],
   "source": [
    "list(client.test_db['system.profile'].find())"
   ]
  },
  {
   "cell_type": "code",
   "execution_count": null,
   "id": "e1ddf9b8-b632-4735-90a1-7c65d3b89d45",
   "metadata": {},
   "outputs": [],
   "source": []
  }
 ],
 "metadata": {
  "kernelspec": {
   "display_name": "Python 3 (ipykernel)",
   "language": "python",
   "name": "python3"
  },
  "language_info": {
   "codemirror_mode": {
    "name": "ipython",
    "version": 3
   },
   "file_extension": ".py",
   "mimetype": "text/x-python",
   "name": "python",
   "nbconvert_exporter": "python",
   "pygments_lexer": "ipython3",
   "version": "3.7.10"
  }
 },
 "nbformat": 4,
 "nbformat_minor": 5
}
