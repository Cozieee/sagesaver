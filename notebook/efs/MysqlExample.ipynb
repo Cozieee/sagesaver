{
 "metadata": {
  "language_info": {
   "codemirror_mode": {
    "name": "ipython",
    "version": 3
   },
   "file_extension": ".py",
   "mimetype": "text/x-python",
   "name": "python",
   "nbconvert_exporter": "python",
   "pygments_lexer": "ipython3",
   "version": "3.8.5"
  },
  "orig_nbformat": 4,
  "kernelspec": {
   "name": "python3",
   "display_name": "Python 3.8.5 64-bit ('mlpp': conda)"
  },
  "interpreter": {
   "hash": "ae8dfb60395371a0daa357b9f67bd3316780c2861ae42a33425ef8e2ed9e9685"
  }
 },
 "nbformat": 4,
 "nbformat_minor": 2,
 "cells": [
  {
   "cell_type": "code",
   "execution_count": 2,
   "metadata": {},
   "outputs": [],
   "source": [
    "from config import config\n",
    "ENVIRONMENT_STACK_NAME = config[\"aws\"][\"stack-origin\"]"
   ]
  },
  {
   "cell_type": "code",
   "execution_count": null,
   "metadata": {},
   "outputs": [],
   "source": [
    "import boto3\n",
    "import json\n",
    "\n",
    "def get_database_secret(stack_name):\n",
    "    session = boto3.session.Session()\n",
    "    client = session.client(\n",
    "        service_name='secretsmanager',\n",
    "        region_name=session.region_name\n",
    "    )\n",
    "    \n",
    "    secret_name = f'{stack_name}-Database-Secret'\n",
    "    get_secret_value_response = client.get_secret_value(SecretId=secret_name)\n",
    "    secret = get_secret_value_response['SecretString']\n",
    "    \n",
    "    return json.loads(secret)"
   ]
  }
 ]
}