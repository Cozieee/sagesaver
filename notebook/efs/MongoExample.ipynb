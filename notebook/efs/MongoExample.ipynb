{
 "metadata": {
  "language_info": {
   "codemirror_mode": {
    "name": "ipython",
    "version": 3
   },
   "file_extension": ".py",
   "mimetype": "text/x-python",
   "name": "python",
   "nbconvert_exporter": "python",
   "pygments_lexer": "ipython3",
   "version": "3.8.5"
  },
  "orig_nbformat": 4,
  "kernelspec": {
   "name": "python3",
   "display_name": "Python 3.8.5 64-bit ('mlpp': conda)"
  },
  "interpreter": {
   "hash": "ae8dfb60395371a0daa357b9f67bd3316780c2861ae42a33425ef8e2ed9e9685"
  }
 },
 "nbformat": 4,
 "nbformat_minor": 2,
 "cells": [
  {
   "source": [
    "# SageSaver MongoDB Connection Example\n",
    "Congrats on setting up your SageSaver Notebook! This notebook will guide you through connecting to your Mongo Database"
   ],
   "cell_type": "markdown",
   "metadata": {}
  },
  {
   "source": [
    "## 1 - Specify Environment Stack Name\n",
    "This Notebook Server has stored some information on your SageSaver environment. Double-check that the environment stack name below is correct."
   ],
   "cell_type": "markdown",
   "metadata": {}
  },
  {
   "cell_type": "code",
   "execution_count": 45,
   "metadata": {},
   "outputs": [
    {
     "output_type": "stream",
     "name": "stdout",
     "text": [
      "Environment Stack Name: Secrets2\n"
     ]
    }
   ],
   "source": [
    "from config import config\n",
    "ENVIRONMENT_STACK_NAME = config[\"aws\"][\"stack-origin\"]\n",
    "AWS_REGION = config[\"aws\"][\"region\"]\n",
    "\n",
    "print(\"Environment Stack Name:\", ENVIRONMENT_STACK_NAME)"
   ]
  },
  {
   "source": [
    "## 2 - Retrieve Secret from AWS\n",
    "Your database credentials have been stored in AWS Secret Manager. The credential is named ENVIRONMENT_STACK_NAME-Database-Secret and you can reuse the methods below to retrieve them."
   ],
   "cell_type": "markdown",
   "metadata": {}
  },
  {
   "cell_type": "code",
   "execution_count": null,
   "metadata": {},
   "outputs": [],
   "source": [
    "import json\n",
    "import boto3\n",
    "\n",
    "def get_database_secret(client, stack):\n",
    "    '''Retrieves SageSaver database credentials from Secrets Manager\n",
    "\n",
    "    Args:\n",
    "        client (boto3 service client): Secrets Manager service client\n",
    "            used for credential retrieval\n",
    "        stack (string): Name of the SageSaver Environment Stack housing\n",
    "             the database\n",
    "    \n",
    "    Returns:\n",
    "        json: Database credentials\n",
    "    '''\n",
    "\n",
    "    secret_name = f'{stack}-Database-Secret'\n",
    "    get_secret_value_response = client.get_secret_value(SecretId=secret_name)\n",
    "    secret = get_secret_value_response['SecretString']\n",
    "\n",
    "    return json.loads(secret)\n",
    "\n",
    "def get_mongo_client(session, stack):\n",
    "    '''Generates a mongo client to the SageSaver MongoDB database\n",
    "\n",
    "    Args:\n",
    "        session (boto3 session): Session used to generate a\n",
    "            Secrets Manager client\n",
    "        stack (string): Name of the SageSaver Environment Stack housing\n",
    "            the database\n",
    "    \n",
    "    Returns:\n",
    "        pymongo client: Client connected to the SageSaver database\n",
    "    '''\n",
    "\n",
    "    secrets_client = session.client('secretsmanager')\n",
    "    secret = get_database_secret(secrets_client, stack)\n",
    "\n",
    "    db_username = secret['username']\n",
    "    db_password = secret['password']\n",
    "    db_port = secret['port']\n",
    "    db_host = secret['host']\n",
    "\n",
    "    return MongoClient(\n",
    "        username=db_username,\n",
    "        password=db_password,\n",
    "        port=db_port,\n",
    "        host=db_host\n",
    "    )\n",
    "\n",
    "aws_session = boto3.session.Session(region_name = AWS_REGION)\n",
    "client = get_mongo_client(aws_session, STACK_NAME)"
   ]
  },
  {
   "source": [
    "## 3 - Test Your Database Connection\n",
    "At this point, 'client' is fully connected to your SageSaver MongoDB server! Feel free to perform any MongoDB/pymongo actions below:"
   ],
   "cell_type": "markdown",
   "metadata": {}
  },
  {
   "cell_type": "code",
   "execution_count": 48,
   "metadata": {},
   "outputs": [
    {
     "output_type": "stream",
     "name": "stdout",
     "text": [
      "['admin', 'config', 'local', 'osu_db', 'osu_random_feb_2020']\n"
     ]
    }
   ],
   "source": [
    "print(client.list_database_names())"
   ]
  }
 ]
}